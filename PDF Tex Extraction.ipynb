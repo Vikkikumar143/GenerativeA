{
 "cells": [
  {
   "cell_type": "code",
   "execution_count": 9,
   "id": "2004f1a0-3856-41ae-94bf-bfcffee646ed",
   "metadata": {},
   "outputs": [],
   "source": [
    "import PyPDF2\n",
    "from langchain_groq import ChatGroq\n",
    "\n",
    "# Initialize the ChatGroq instance\n",
    "llm = ChatGroq(\n",
    "    model=\"mixtral-8x7b-32768\",\n",
    "    temperature=0.2,\n",
    "    groq_api_key=\"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\"\n",
    ")"
   ]
  },
  {
   "cell_type": "code",
   "execution_count": 5,
   "id": "f129c6d2-d010-414d-ae3e-9015aa36e905",
   "metadata": {},
   "outputs": [],
   "source": [
    "def extract_text_from_pdf(pdf_path):\n",
    "    try:\n",
    "        with open(pdf_path, \"rb\") as file:\n",
    "            reader = PyPDF2.PdfReader(file)\n",
    "            text = \"\"\n",
    "            for page in reader.pages:\n",
    "                text += page.extract_text()\n",
    "        return text\n",
    "    except Exception as e:\n",
    "        print(f\"Error reading PDF: {e}\")\n",
    "        return \"\""
   ]
  },
  {
   "cell_type": "code",
   "execution_count": 6,
   "id": "7ffb7174-3cf3-4b6e-b7a3-eaa98521745f",
   "metadata": {},
   "outputs": [],
   "source": [
    "# Function to query the content\n",
    "def query_pdf_content(pdf_content, query):\n",
    "    prompt = f\"\"\"\n",
    "    You are a PDF content assistant. The following text is extracted from a PDF document:\n",
    "    ---\n",
    "    {pdf_content}\n",
    "    ---\n",
    "    Answer the user's query based on the above content. If the answer is not found in the text, reply with 'No information exists.'\n",
    "    \n",
    "    Query: {query}\n",
    "    \"\"\"\n",
    "    response = llm.invoke(prompt, max_tokens=150)\n",
    "    return response.content.strip()  # Accessing the content attribute and applying strip()"
   ]
  },
  {
   "cell_type": "code",
   "execution_count": null,
   "id": "f33b47f5-b45f-4da3-a1c2-334fe62781e2",
   "metadata": {},
   "outputs": [
    {
     "name": "stdin",
     "output_type": "stream",
     "text": [
      "Ask your question (or type 'exit' to quit):  class\n"
     ]
    },
    {
     "name": "stdout",
     "output_type": "stream",
     "text": [
      "Response: A class in Python is a collection of objects that consists of class variables and class methods. It is a model that defines the behavior of a collection of related objects. Classes are created using the \"class\" keyword.\n",
      "\n",
      "Classes can contain attributes and methods. Attributes are variables that contain data, while methods are similar to functions that perform a specific task or logic.\n",
      "\n",
      "When a class is defined, it can have an optional base class, which is represented by the object keyword.\n",
      "\n",
      "The \\_\\_init\\_\\_ method is a constructor in a class that is used to initialize the instance variables. It is called automatically when an object of the class is created.\n",
      "\n",
      "The self parameter or variable in a method refers to\n"
     ]
    }
   ],
   "source": [
    "pdf_path = \"01-Class.pdf\"  # Replace with your PDF file path\n",
    "pdf_content = extract_text_from_pdf(pdf_path)\n",
    "\n",
    "if pdf_content:\n",
    "    while True:\n",
    "        user_query = input(\"Ask your question (or type 'exit' to quit): \")\n",
    "        if user_query.lower() == \"exit\":\n",
    "            break\n",
    "        response = query_pdf_content(pdf_content, user_query)\n",
    "        print(\"Response:\", response)\n",
    "else:\n",
    "    print(\"Could not extract content from the PDF.\")"
   ]
  }
 ],
 "metadata": {
  "kernelspec": {
   "display_name": "Python 3 (ipykernel)",
   "language": "python",
   "name": "python3"
  },
  "language_info": {
   "codemirror_mode": {
    "name": "ipython",
    "version": 3
   },
   "file_extension": ".py",
   "mimetype": "text/x-python",
   "name": "python",
   "nbconvert_exporter": "python",
   "pygments_lexer": "ipython3",
   "version": "3.9.13"
  }
 },
 "nbformat": 4,
 "nbformat_minor": 5
}
