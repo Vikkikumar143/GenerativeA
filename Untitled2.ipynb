{
 "cells": [
  {
   "cell_type": "code",
   "execution_count": 6,
   "id": "28d46194-6785-45b5-9114-2c13c296bb08",
   "metadata": {},
   "outputs": [],
   "source": [
    "import PyPDF2\n",
    "from langchain_groq import ChatGroq\n",
    "\n",
    "# Initialize the ChatGroq instance\n",
    "llm = ChatGroq(\n",
    "    model=\"mixtral-8x7b-32768\",\n",
    "    temperature=0.2,\n",
    "    groq_api_key=\"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\"\n",
    ")"
   ]
  },
  {
   "cell_type": "code",
   "execution_count": 7,
   "id": "0ca014c5-5b10-4f58-9a09-48d48ad88cf2",
   "metadata": {},
   "outputs": [],
   "source": [
    "# Function to extract text from PDF\n",
    "def extract_text_from_pdf(pdf_path):\n",
    "    try:\n",
    "        with open(pdf_path, \"rb\") as file:\n",
    "            reader = PyPDF2.PdfReader(file)\n",
    "            text = \"\"\n",
    "            for page in reader.pages:\n",
    "                text += page.extract_text()\n",
    "        return text\n",
    "    except Exception as e:\n",
    "        print(f\"Error reading PDF: {e}\")\n",
    "        return \"\""
   ]
  },
  {
   "cell_type": "code",
   "execution_count": 8,
   "id": "fd328ab4-0f76-4f0c-a63f-55340a8db64b",
   "metadata": {},
   "outputs": [],
   "source": [
    "# Function to query the content\n",
    "def query_pdf_content(pdf_content, query):\n",
    "    prompt = f\"\"\"\n",
    "    You are a PDF content assistant. The following text is extracted from a PDF document:\n",
    "    ---\n",
    "    {pdf_content}\n",
    "    ---\n",
    "    Answer the user's query based on the above content. If the answer is not found in the text, reply with 'No information exists.'\n",
    "    \n",
    "    Query: {query}\n",
    "    \"\"\"\n",
    "    response = llm.invoke(prompt, max_tokens=150)\n",
    "    return response.content.strip()  # Accessing the content attribute and applying strip()"
   ]
  },
  {
   "cell_type": "code",
   "execution_count": 9,
   "id": "0ad3a140-85ac-4a0b-b2bf-23e8f0585619",
   "metadata": {},
   "outputs": [
    {
     "name": "stdin",
     "output_type": "stream",
     "text": [
      "Ask your question (or type 'exit' to quit):  what is class\n"
     ]
    },
    {
     "name": "stdout",
     "output_type": "stream",
     "text": [
      "Response: A class in Python is a collection of objects that consists of class variables and class methods. It is a model that defines the behavior and attributes of a group of objects. Classes are created using the \"class\" keyword.\n",
      "\n",
      "Classes can have attributes, which are variables that contain data, and methods, which are similar to functions that perform specific tasks or logic. The syntax for defining a class includes the class name followed by a colon, and then the class body, which contains the attributes and methods.\n",
      "\n",
      "When an object is created from a class, the `__init__` method is called automatically to initialize the instance variables. The `self` parameter in the `__init__` method refers to the current class object or instance.\n"
     ]
    },
    {
     "name": "stdin",
     "output_type": "stream",
     "text": [
      "Ask your question (or type 'exit' to quit):  what is class\n"
     ]
    },
    {
     "name": "stdout",
     "output_type": "stream",
     "text": [
      "Response: A class in Python is a collection of objects that consists of class variables and class methods. It is a model that defines a set of properties and behaviors for a group of objects. Classes are created using the \"class\" keyword.\n",
      "\n",
      "Classes can contain attributes, which are variables that hold data, and methods, which are similar to functions that perform specific tasks or logic. The syntax for defining a class includes the class name followed by a colon, and then the class body, which contains the attributes and methods.\n",
      "\n",
      "When an object is created from a class, the `__init__` method is called automatically to initialize the instance variables. The `self` parameter in the `__init__` method refers to the current class object or\n"
     ]
    },
    {
     "name": "stdin",
     "output_type": "stream",
     "text": [
      "Ask your question (or type 'exit' to quit):  exit\n"
     ]
    }
   ],
   "source": [
    "# Main Execution\n",
    "pdf_path = \"01-Class.pdf\"  # Replace with your PDF file path\n",
    "pdf_content = extract_text_from_pdf(pdf_path)\n",
    "\n",
    "if pdf_content:\n",
    "    while True:\n",
    "        user_query = input(\"Ask your question (or type 'exit' to quit): \")\n",
    "        if user_query.lower() == \"exit\":\n",
    "            break\n",
    "        response = query_pdf_content(pdf_content, user_query)\n",
    "        print(\"Response:\", response)\n",
    "else:\n",
    "    print(\"Could not extract content from the PDF.\")"
   ]
  }
 ],
 "metadata": {
  "kernelspec": {
   "display_name": "Python 3 (ipykernel)",
   "language": "python",
   "name": "python3"
  },
  "language_info": {
   "codemirror_mode": {
    "name": "ipython",
    "version": 3
   },
   "file_extension": ".py",
   "mimetype": "text/x-python",
   "name": "python",
   "nbconvert_exporter": "python",
   "pygments_lexer": "ipython3",
   "version": "3.9.13"
  }
 },
 "nbformat": 4,
 "nbformat_minor": 5
}
