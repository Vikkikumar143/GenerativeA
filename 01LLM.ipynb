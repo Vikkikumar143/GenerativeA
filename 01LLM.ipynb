{
 "cells": [
  {
   "cell_type": "code",
   "execution_count": 10,
   "id": "465c594d-2f3f-4a4a-be40-6dc27dc39251",
   "metadata": {},
   "outputs": [],
   "source": [
    "from langchain_groq import ChatGroq"
   ]
  },
  {
   "cell_type": "code",
   "execution_count": 11,
   "id": "31cebb1d-9a3f-4585-b9bf-a35af8f26a11",
   "metadata": {},
   "outputs": [],
   "source": [
    "llm = ChatGroq(\n",
    "    model=\"mixtral-8x7b-32768\",\n",
    "    temperature=0,\n",
    "    groq_api_key=\"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\"\n",
    ")"
   ]
  },
  {
   "cell_type": "code",
   "execution_count": 12,
   "id": "b7bc84e8-c24e-4e6f-b16b-67e7e60deb37",
   "metadata": {},
   "outputs": [
    {
     "data": {
      "text/plain": [
       "AIMessage(content='As of my knowledge up to October 2021, the Prime Minister of India is Narendra Modi. He has been in office since May 2014. However, please verify from a reliable source as this information might have changed.', additional_kwargs={}, response_metadata={'token_usage': {'completion_tokens': 55, 'prompt_tokens': 14, 'total_tokens': 69, 'completion_time': 0.083196066, 'prompt_time': 0.002004055, 'queue_time': 0.019207863999999998, 'total_time': 0.085200121}, 'model_name': 'mixtral-8x7b-32768', 'system_fingerprint': 'fp_c5f20b5bb1', 'finish_reason': 'stop', 'logprobs': None}, id='run-439f36ec-65e7-4d24-95a2-0024d56ba2ed-0', usage_metadata={'input_tokens': 14, 'output_tokens': 55, 'total_tokens': 69})"
      ]
     },
     "execution_count": 12,
     "metadata": {},
     "output_type": "execute_result"
    }
   ],
   "source": [
    "response=llm.invoke(\"Who is prime minister of india\")\n",
    "response"
   ]
  }
 ],
 "metadata": {
  "kernelspec": {
   "display_name": "Python 3 (ipykernel)",
   "language": "python",
   "name": "python3"
  },
  "language_info": {
   "codemirror_mode": {
    "name": "ipython",
    "version": 3
   },
   "file_extension": ".py",
   "mimetype": "text/x-python",
   "name": "python",
   "nbconvert_exporter": "python",
   "pygments_lexer": "ipython3",
   "version": "3.9.13"
  }
 },
 "nbformat": 4,
 "nbformat_minor": 5
}
